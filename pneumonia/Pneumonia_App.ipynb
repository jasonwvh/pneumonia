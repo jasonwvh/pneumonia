{
  "nbformat": 4,
  "nbformat_minor": 0,
  "metadata": {
    "colab": {
      "name": "Pneumonia_App.ipynb",
      "provenance": [],
      "collapsed_sections": []
    },
    "kernelspec": {
      "name": "python3",
      "display_name": "Python 3"
    },
    "accelerator": "GPU"
  },
  "cells": [
    {
      "cell_type": "code",
      "metadata": {
        "id": "Q6P9OcNTJnPd",
        "colab_type": "code",
        "colab": {
          "base_uri": "https://localhost:8080/",
          "height": 481
        },
        "outputId": "fdf81af5-003e-4547-ac08-3af2e60f4881"
      },
      "source": [
        "#credits: https://www.kaggle.com/paultimothymooney for the dataset\n",
        "#credits: https://www.kaggle.com/aakashnain for the model\n",
        "\n",
        "!pip install flask_ngrok\n",
        "!pip install bokeh\n",
        "\n",
        "import pandas as pd\n",
        "import numpy as np\n",
        "import os\n",
        "import keras\n",
        "import random\n",
        "import matplotlib.pyplot as plt\n",
        "from keras.layers import Dense, GlobalAveragePooling2D\n",
        "from keras.applications import MobileNet\n",
        "from keras.preprocessing import image\n",
        "from keras.applications.mobilenet import preprocess_input\n",
        "from keras.preprocessing.image import ImageDataGenerator\n",
        "from keras.models import Model, load_model\n",
        "from keras.optimizers import Adam\n",
        "from imageio import imread\n",
        "from PIL import Image\n",
        "from werkzeug.utils import secure_filename\n",
        "from flask import Flask, flash, render_template, request, redirect, url_for, send_file\n",
        "from flask_ngrok import run_with_ngrok\n",
        "from google.colab import files\n",
        "from bokeh.plotting import figure\n",
        "from bokeh.embed import components\n",
        "from numpy import pi, squeeze"
      ],
      "execution_count": 1,
      "outputs": [
        {
          "output_type": "stream",
          "text": [
            "Using TensorFlow backend.\n"
          ],
          "name": "stderr"
        },
        {
          "output_type": "display_data",
          "data": {
            "text/html": [
              "<p style=\"color: red;\">\n",
              "The default version of TensorFlow in Colab will soon switch to TensorFlow 2.x.<br>\n",
              "We recommend you <a href=\"https://www.tensorflow.org/guide/migrate\" target=\"_blank\">upgrade</a> now \n",
              "or ensure your notebook will continue to use TensorFlow 1.x via the <code>%tensorflow_version 1.x</code> magic:\n",
              "<a href=\"https://colab.research.google.com/notebooks/tensorflow_version.ipynb\" target=\"_blank\">more info</a>.</p>\n"
            ],
            "text/plain": [
              "<IPython.core.display.HTML object>"
            ]
          },
          "metadata": {
            "tags": []
          }
        },
        {
          "output_type": "stream",
          "text": [
            "Requirement already satisfied: flask_ngrok in /usr/local/lib/python3.6/dist-packages (0.0.25)\n",
            "Requirement already satisfied: Flask>=0.8 in /usr/local/lib/python3.6/dist-packages (from flask_ngrok) (1.1.1)\n",
            "Requirement already satisfied: requests in /usr/local/lib/python3.6/dist-packages (from flask_ngrok) (2.21.0)\n",
            "Requirement already satisfied: click>=5.1 in /usr/local/lib/python3.6/dist-packages (from Flask>=0.8->flask_ngrok) (7.0)\n",
            "Requirement already satisfied: itsdangerous>=0.24 in /usr/local/lib/python3.6/dist-packages (from Flask>=0.8->flask_ngrok) (1.1.0)\n",
            "Requirement already satisfied: Jinja2>=2.10.1 in /usr/local/lib/python3.6/dist-packages (from Flask>=0.8->flask_ngrok) (2.10.3)\n",
            "Requirement already satisfied: Werkzeug>=0.15 in /usr/local/lib/python3.6/dist-packages (from Flask>=0.8->flask_ngrok) (0.16.0)\n",
            "Requirement already satisfied: urllib3<1.25,>=1.21.1 in /usr/local/lib/python3.6/dist-packages (from requests->flask_ngrok) (1.24.3)\n",
            "Requirement already satisfied: idna<2.9,>=2.5 in /usr/local/lib/python3.6/dist-packages (from requests->flask_ngrok) (2.8)\n",
            "Requirement already satisfied: certifi>=2017.4.17 in /usr/local/lib/python3.6/dist-packages (from requests->flask_ngrok) (2019.11.28)\n",
            "Requirement already satisfied: chardet<3.1.0,>=3.0.2 in /usr/local/lib/python3.6/dist-packages (from requests->flask_ngrok) (3.0.4)\n",
            "Requirement already satisfied: MarkupSafe>=0.23 in /usr/local/lib/python3.6/dist-packages (from Jinja2>=2.10.1->Flask>=0.8->flask_ngrok) (1.1.1)\n",
            "Requirement already satisfied: bokeh in /usr/local/lib/python3.6/dist-packages (1.4.0)\n",
            "Requirement already satisfied: pillow>=4.0 in /usr/local/lib/python3.6/dist-packages (from bokeh) (6.2.2)\n",
            "Requirement already satisfied: six>=1.5.2 in /usr/local/lib/python3.6/dist-packages (from bokeh) (1.12.0)\n",
            "Requirement already satisfied: numpy>=1.7.1 in /usr/local/lib/python3.6/dist-packages (from bokeh) (1.17.5)\n",
            "Requirement already satisfied: packaging>=16.8 in /usr/local/lib/python3.6/dist-packages (from bokeh) (20.0)\n",
            "Requirement already satisfied: python-dateutil>=2.1 in /usr/local/lib/python3.6/dist-packages (from bokeh) (2.6.1)\n",
            "Requirement already satisfied: Jinja2>=2.7 in /usr/local/lib/python3.6/dist-packages (from bokeh) (2.10.3)\n",
            "Requirement already satisfied: PyYAML>=3.10 in /usr/local/lib/python3.6/dist-packages (from bokeh) (3.13)\n",
            "Requirement already satisfied: tornado>=4.3 in /usr/local/lib/python3.6/dist-packages (from bokeh) (4.5.3)\n",
            "Requirement already satisfied: pyparsing>=2.0.2 in /usr/local/lib/python3.6/dist-packages (from packaging>=16.8->bokeh) (2.4.6)\n",
            "Requirement already satisfied: MarkupSafe>=0.23 in /usr/local/lib/python3.6/dist-packages (from Jinja2>=2.7->bokeh) (1.1.1)\n"
          ],
          "name": "stdout"
        }
      ]
    },
    {
      "cell_type": "code",
      "metadata": {
        "id": "mT09j5-FKoPp",
        "colab_type": "code",
        "outputId": "c4d1a8e3-c38e-42bf-c041-1018fdeba78a",
        "colab": {
          "base_uri": "https://localhost:8080/",
          "height": 34
        }
      },
      "source": [
        "# Mount our Google Drive\n",
        "from google.colab import drive\n",
        "drive.mount('/content/drive')"
      ],
      "execution_count": 2,
      "outputs": [
        {
          "output_type": "stream",
          "text": [
            "Drive already mounted at /content/drive; to attempt to forcibly remount, call drive.mount(\"/content/drive\", force_remount=True).\n"
          ],
          "name": "stdout"
        }
      ]
    },
    {
      "cell_type": "code",
      "metadata": {
        "id": "ieIoy3UIKsM4",
        "colab_type": "code",
        "outputId": "7c9f3e9d-9d57-462d-d626-fb4a196ba476",
        "colab": {
          "base_uri": "https://localhost:8080/",
          "height": 749
        }
      },
      "source": [
        "# Loading our model from Google Drive\n",
        "model = load_model(\"/content/drive/My Drive/pneumonia/chest-xray-pneumonia.h5\")\n",
        "\n",
        "# Output a [0, 1] score for being normal or ill\n",
        "def pred_img(pic):\n",
        "    img = image.load_img(pic, target_size=(224, 224))\n",
        "    x = image.img_to_array(img)\n",
        "    x = np.expand_dims(x, axis=0)\n",
        "    x = preprocess_input(x)\n",
        "    normal_score, pneumonia_score = np.around(model.predict(x), decimals=2)[0]\n",
        "    return {'normal_score': normal_score, 'pneumonia_score': pneumonia_score}\n",
        "\n",
        "# Testing our method\n",
        "ill_path = \"/content/drive/My Drive/pneumonia/chest_xray/test/PNEUMONIA/\"\n",
        "good_path = \"/content/drive/My Drive/pneumonia/chest_xray/test/NORMAL/\"\n",
        "ill_pic = ill_path + os.listdir(ill_path)[3]\n",
        "good_pic = good_path + os.listdir(good_path)[3]\n",
        "\n",
        "print(pred_img(ill_pic))\n",
        "print(pred_img(good_pic))"
      ],
      "execution_count": 3,
      "outputs": [
        {
          "output_type": "stream",
          "text": [
            "WARNING:tensorflow:From /usr/local/lib/python3.6/dist-packages/keras/backend/tensorflow_backend.py:541: The name tf.placeholder is deprecated. Please use tf.compat.v1.placeholder instead.\n",
            "\n",
            "WARNING:tensorflow:From /usr/local/lib/python3.6/dist-packages/keras/backend/tensorflow_backend.py:4432: The name tf.random_uniform is deprecated. Please use tf.random.uniform instead.\n",
            "\n",
            "WARNING:tensorflow:From /usr/local/lib/python3.6/dist-packages/keras/backend/tensorflow_backend.py:4267: The name tf.nn.max_pool is deprecated. Please use tf.nn.max_pool2d instead.\n",
            "\n",
            "WARNING:tensorflow:From /usr/local/lib/python3.6/dist-packages/keras/backend/tensorflow_backend.py:66: The name tf.get_default_graph is deprecated. Please use tf.compat.v1.get_default_graph instead.\n",
            "\n",
            "WARNING:tensorflow:From /usr/local/lib/python3.6/dist-packages/keras/backend/tensorflow_backend.py:190: The name tf.get_default_session is deprecated. Please use tf.compat.v1.get_default_session instead.\n",
            "\n",
            "WARNING:tensorflow:From /usr/local/lib/python3.6/dist-packages/keras/backend/tensorflow_backend.py:197: The name tf.ConfigProto is deprecated. Please use tf.compat.v1.ConfigProto instead.\n",
            "\n",
            "WARNING:tensorflow:From /usr/local/lib/python3.6/dist-packages/keras/backend/tensorflow_backend.py:203: The name tf.Session is deprecated. Please use tf.compat.v1.Session instead.\n",
            "\n",
            "WARNING:tensorflow:From /usr/local/lib/python3.6/dist-packages/keras/backend/tensorflow_backend.py:207: The name tf.global_variables is deprecated. Please use tf.compat.v1.global_variables instead.\n",
            "\n",
            "WARNING:tensorflow:From /usr/local/lib/python3.6/dist-packages/keras/backend/tensorflow_backend.py:216: The name tf.is_variable_initialized is deprecated. Please use tf.compat.v1.is_variable_initialized instead.\n",
            "\n",
            "WARNING:tensorflow:From /usr/local/lib/python3.6/dist-packages/keras/backend/tensorflow_backend.py:223: The name tf.variables_initializer is deprecated. Please use tf.compat.v1.variables_initializer instead.\n",
            "\n",
            "WARNING:tensorflow:From /usr/local/lib/python3.6/dist-packages/keras/backend/tensorflow_backend.py:2041: The name tf.nn.fused_batch_norm is deprecated. Please use tf.compat.v1.nn.fused_batch_norm instead.\n",
            "\n",
            "WARNING:tensorflow:From /usr/local/lib/python3.6/dist-packages/keras/backend/tensorflow_backend.py:148: The name tf.placeholder_with_default is deprecated. Please use tf.compat.v1.placeholder_with_default instead.\n",
            "\n",
            "WARNING:tensorflow:From /usr/local/lib/python3.6/dist-packages/keras/backend/tensorflow_backend.py:3733: calling dropout (from tensorflow.python.ops.nn_ops) with keep_prob is deprecated and will be removed in a future version.\n",
            "Instructions for updating:\n",
            "Please use `rate` instead of `keep_prob`. Rate should be set to `rate = 1 - keep_prob`.\n",
            "WARNING:tensorflow:Large dropout rate: 0.7 (>0.5). In TensorFlow 2.x, dropout() uses dropout rate instead of keep_prob. Please ensure that this is intended.\n",
            "WARNING:tensorflow:From /usr/local/lib/python3.6/dist-packages/keras/optimizers.py:793: The name tf.train.Optimizer is deprecated. Please use tf.compat.v1.train.Optimizer instead.\n",
            "\n",
            "WARNING:tensorflow:From /usr/local/lib/python3.6/dist-packages/keras/backend/tensorflow_backend.py:3657: The name tf.log is deprecated. Please use tf.math.log instead.\n",
            "\n",
            "WARNING:tensorflow:From /usr/local/lib/python3.6/dist-packages/tensorflow_core/python/ops/nn_impl.py:183: where (from tensorflow.python.ops.array_ops) is deprecated and will be removed in a future version.\n",
            "Instructions for updating:\n",
            "Use tf.where in 2.0, which has the same broadcast rule as np.where\n",
            "WARNING:tensorflow:From /usr/local/lib/python3.6/dist-packages/keras/backend/tensorflow_backend.py:1033: The name tf.assign_add is deprecated. Please use tf.compat.v1.assign_add instead.\n",
            "\n",
            "WARNING:tensorflow:From /usr/local/lib/python3.6/dist-packages/keras/backend/tensorflow_backend.py:1020: The name tf.assign is deprecated. Please use tf.compat.v1.assign instead.\n",
            "\n",
            "{'p_good': 0.0, 'p_ill': 1.0}\n",
            "{'p_good': 1.0, 'p_ill': 0.0}\n"
          ],
          "name": "stdout"
        }
      ]
    },
    {
      "cell_type": "code",
      "metadata": {
        "id": "TXjvOz5yNSgJ",
        "colab_type": "code",
        "colab": {
          "base_uri": "https://localhost:8080/",
          "height": 34
        },
        "outputId": "5870a31b-04eb-44cc-fc58-7319e4aaaa6d"
      },
      "source": [
        "# Setting up templates and upload folder\n",
        "!cp -r '/content/drive/My Drive/pneumonia/templates' '/content/'\n",
        "!mkdir uploads"
      ],
      "execution_count": 4,
      "outputs": [
        {
          "output_type": "stream",
          "text": [
            "mkdir: cannot create directory ‘uploads’: File exists\n"
          ],
          "name": "stdout"
        }
      ]
    },
    {
      "cell_type": "code",
      "metadata": {
        "id": "lIfliFmfKz-b",
        "colab_type": "code",
        "outputId": "696182fe-74f3-4250-cd49-79a8b267aa6c",
        "colab": {
          "base_uri": "https://localhost:8080/",
          "height": 278
        }
      },
      "source": [
        "''' Our Flask web app '''\n",
        "app = Flask(__name__)\n",
        "\n",
        "# Secret key for image upload\n",
        "app.config['SECRET_KEY'] = \"muchsecret\"\n",
        "\n",
        "# Upload folder path\n",
        "app.config['UPLOAD_FOLDER'] = '/content/uploads/'\n",
        "\n",
        "# Start ngrok when app is run\n",
        "run_with_ngrok(app)  \n",
        "\n",
        "# Definitions\n",
        "ALLOWED_EXTENSIONS = set(['png', 'bmp', 'jpg', 'jpeg', 'gif'])\n",
        "LETTER_SET = list(set('ABCDEFGHIJKLMNOPQRSTUVWXYZ0123456789'))\n",
        "IMAGE_LABELS = ['Normal', 'Pneumonia']\n",
        "\n",
        "# Check if a filename's extension is acceptable\n",
        "def is_allowed_file(filename):\n",
        "    allowed_ext = filename.rsplit('.', 1)[1].lower() in ALLOWED_EXTENSIONS\n",
        "    return '.' in filename and allowed_ext\n",
        "\n",
        "# Generate a random name for an uploaded file.\n",
        "def generate_random_name(filename):\n",
        "    ext = filename.split('.')[-1]\n",
        "    rns = [random.randint(0, len(LETTER_SET) - 1) for _ in range(3)]\n",
        "    chars = ''.join([LETTER_SET[rn] for rn in rns])\n",
        "\n",
        "    new_name = \"{new_fn}.{ext}\".format(new_fn=chars, ext=ext)\n",
        "    new_name = secure_filename(new_name)\n",
        "\n",
        "    return new_name\n",
        "\n",
        "# Generates script and bar plot of predictions\n",
        "def generate_barplot(predictions):\n",
        "    plot = figure(x_range=IMAGE_LABELS, plot_height=300, plot_width=400)\n",
        "    plot.vbar(x=IMAGE_LABELS, top=predictions, width=0.8)\n",
        "    plot.xaxis.major_label_orientation = pi / 2.\n",
        "\n",
        "    return components(plot)\n",
        "\n",
        "# Loads and prepares the image\n",
        "def load_and_prepare(filepath):\n",
        "    img = image.load_img(filepath, target_size=(224, 224))\n",
        "    image_data = image.img_to_array(img)\n",
        "    image_data = np.expand_dims(image_data, axis=0)\n",
        "    image_data = preprocess_input(image_data)\n",
        "    return image_data\n",
        "\n",
        "# Scale the image to the correct dimensions\n",
        "def make_thumbnail(filepath):\n",
        "    img = Image.open(filepath)\n",
        "    thumb = None\n",
        "    w, h = img.size\n",
        "\n",
        "    # If it is exactly 512x512, do nothing\n",
        "    if w == 512 and h == 512:\n",
        "        return True\n",
        "\n",
        "    # If the width and height are equal, scale down\n",
        "    if w == h:\n",
        "        thumb = img.resize((512, 512), Image.BICUBIC)\n",
        "        thumb.save(filepath)\n",
        "        return True\n",
        "\n",
        "    # When the image's width is smaller than the height\n",
        "    if w < h:\n",
        "        # Scale so that the width is 512\n",
        "        ratio = w / 512.\n",
        "        w_new, h_new = 512, int(h / ratio)\n",
        "        thumb = img.resize((w_new, h_new), Image.BICUBIC)\n",
        "\n",
        "        # Crop the excess\n",
        "        top, bottom = 0, 0\n",
        "        margin = h_new - 512\n",
        "        top, bottom = margin // 2, 512 + margin // 2\n",
        "        box = (0, top, 512, bottom)\n",
        "        cropped = thumb.crop(box)\n",
        "        cropped.save(filepath)\n",
        "        return True\n",
        "\n",
        "    # When the image's height is smaller than the width\n",
        "    if h < w:\n",
        "        # Scale so that the height is 512\n",
        "        ratio = h / 512\n",
        "        w_new, h_new = int(w / ratio), 512\n",
        "        thumb = img.resize((w_new, h_new), Image.BICUBIC)\n",
        "\n",
        "        # Crop the excess\n",
        "        left, right = 0, 0\n",
        "        margin = w_new - 512\n",
        "        left, right = margin // 2, 512 + margin // 2\n",
        "        box = (left, 0, right, 512)\n",
        "        cropped = thumb.crop(box)\n",
        "        cropped.save(filepath)\n",
        "        return True\n",
        "    return False\n",
        "\n",
        "# Main page\n",
        "@app.route('/', methods=['GET', 'POST'])\n",
        "def home():\n",
        "    if request.method == 'GET':\n",
        "        # Upload form\n",
        "        return render_template('home.html')\n",
        "    \n",
        "    if request.method == 'POST':\n",
        "        # Check if file uploaded\n",
        "        if 'image' not in request.files:\n",
        "            flash('No file uploaded.')\n",
        "            return redirect(request.url)\n",
        "        \n",
        "        image_file = request.files['image']\n",
        "        \n",
        "        # Check if filename empty\n",
        "        if image_file.filename == '':\n",
        "            flash('No file uploaded.')\n",
        "            return redirect(request.url)\n",
        "        \n",
        "        # If file uploaded\n",
        "        if image_file and is_allowed_file(image_file.filename):\n",
        "            try:\n",
        "                filename = generate_random_name(image_file.filename)\n",
        "                filepath = os.path.join(app.config['UPLOAD_FOLDER'], filename)\n",
        "                image_file.save(filepath)\n",
        "                passed = make_thumbnail(filepath)\n",
        "            except Exception:\n",
        "                passed = False\n",
        "            \n",
        "            if passed:\n",
        "                return redirect(url_for('predict', filename=filename))\n",
        "            else:\n",
        "                flash('An error occurred, try again.')\n",
        "                return redirect(request.url)\n",
        "\n",
        "# Predict page\n",
        "@app.route('/predict/<filename>', methods=['GET'])\n",
        "def predict(filename):\n",
        "    # Setting up image for prediction\n",
        "    image_url = url_for('images', filename=filename)\n",
        "    image_path = os.path.join(app.config['UPLOAD_FOLDER'], filename)\n",
        "    image_data = load_and_prepare(image_path)\n",
        "    \n",
        "    # Prediction\n",
        "    normal_score, pneumonia_score = np.around(model.predict(image_data), decimals=2)[0]\n",
        "\n",
        "    # Setting up bar plot\n",
        "    predictions = [normal_score, pneumonia_score]\n",
        "    script, div = generate_barplot(predictions)\n",
        "    \n",
        "    return render_template('predict.html', plot_script=script, plot_div=div, image_url=image_url)\n",
        "\n",
        "# Display image page\n",
        "@app.route('/images/<filename>', methods=['GET'])\n",
        "def images(filename):\n",
        "    return send_file(os.path.join(app.config['UPLOAD_FOLDER'], filename))\n",
        "\n",
        "# Error page\n",
        "@app.errorhandler(500)\n",
        "def server_error(error):\n",
        "    return render_template('error.html'), 500\n",
        "\n",
        "# Main app\n",
        "if __name__ == '__main__':\n",
        "    app.run()"
      ],
      "execution_count": 5,
      "outputs": [
        {
          "output_type": "stream",
          "text": [
            " * Serving Flask app \"__main__\" (lazy loading)\n",
            " * Environment: production\n",
            "   WARNING: This is a development server. Do not use it in a production deployment.\n",
            "   Use a production WSGI server instead.\n",
            " * Debug mode: off\n"
          ],
          "name": "stdout"
        },
        {
          "output_type": "stream",
          "text": [
            " * Running on http://127.0.0.1:5000/ (Press CTRL+C to quit)\n"
          ],
          "name": "stderr"
        },
        {
          "output_type": "stream",
          "text": [
            " * Running on http://1e60afeb.ngrok.io\n",
            " * Traffic stats available on http://127.0.0.1:4040\n"
          ],
          "name": "stdout"
        },
        {
          "output_type": "stream",
          "text": [
            "127.0.0.1 - - [15/Jan/2020 12:12:55] \"\u001b[37mGET / HTTP/1.1\u001b[0m\" 200 -\n",
            "127.0.0.1 - - [15/Jan/2020 12:12:55] \"\u001b[33mGET /static/styles/app.css HTTP/1.1\u001b[0m\" 404 -\n",
            "127.0.0.1 - - [15/Jan/2020 12:12:56] \"\u001b[33mGET /favicon.ico HTTP/1.1\u001b[0m\" 404 -\n",
            "127.0.0.1 - - [15/Jan/2020 12:13:05] \"\u001b[32mPOST / HTTP/1.1\u001b[0m\" 302 -\n",
            "127.0.0.1 - - [15/Jan/2020 12:13:06] \"\u001b[37mGET /predict/1NU.jpg HTTP/1.1\u001b[0m\" 200 -\n",
            "127.0.0.1 - - [15/Jan/2020 12:13:06] \"\u001b[37mGET /images/1NU.jpg HTTP/1.1\u001b[0m\" 200 -\n",
            "127.0.0.1 - - [15/Jan/2020 12:13:06] \"\u001b[33mGET /static/styles/app.css HTTP/1.1\u001b[0m\" 404 -\n"
          ],
          "name": "stderr"
        }
      ]
    }
  ]
}